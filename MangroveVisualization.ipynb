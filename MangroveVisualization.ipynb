{
    "cells": [
        {
            "cell_type": "markdown",
            "source": [
                "# Mangrove - M.2 Tide Distribution Visualization"
            ],
            "metadata": {}
        },
        {
            "cell_type": "markdown",
            "source": [
                "This Notebook overlays Global Mangrove Distribution Data from ORNL DAAC with M.2 Tide magnitudes worldwide over tropical areas."
            ],
            "metadata": {}
        },
        {
            "cell_type": "code",
            "execution_count": 1,
            "source": [
                "import xarray as xr\n",
                "from affine import Affine\n",
                "import numpy as np\n",
                "import matplotlib.pyplot as plt\n",
                "import cartopy.crs as ccrs\n",
                "import cartopy.feature as cfeature\n",
                "from cartopy.mpl.gridliner import LONGITUDE_FORMATTER, LATITUDE_FORMATTER\n",
                "from mpl_toolkits.axes_grid1 import make_axes_locatable\n",
                "import matplotlib.ticker as mticker\n",
                "import earthpy as et\n",
                "import earthpy.spatial as es\n",
                "import earthpy.plot as ep\n",
                "import rasterio as rio\n",
                "from rasterio.plot import plotting_extent\n",
                "import os\n",
                "import rioxarray as rxr\n"
            ],
            "outputs": [],
            "metadata": {}
        },
        {
            "cell_type": "code",
            "execution_count": 2,
            "source": [
                "da = xr.open_rasterio('CMS_Global_Map_Mangrove_Canopy_1665/data/Mangrove_hmax95_Haiti.tif')\n",
                "transform = Affine.from_gdal(*da.attrs['transform'])"
            ],
            "outputs": [],
            "metadata": {}
        },
        {
            "cell_type": "code",
            "execution_count": 3,
            "source": [
                "# Define the projection\n",
                "crs=ccrs.PlateCarree()\n",
                "\n",
                "f, ax = plt.subplots()\n",
                "da.plot(ax=ax)\n",
                "plt.show()"
            ],
            "outputs": [],
            "metadata": {}
        },
        {
            "cell_type": "code",
            "execution_count": null,
            "source": [
                "lon_min = -75\n",
                "lon_max = -71.5\n",
                "lat_min = 17.75\n",
                "lat_max = 20.25"
            ],
            "outputs": [],
            "metadata": {}
        },
        {
            "cell_type": "code",
            "execution_count": null,
            "source": [
                "et.data.get_data('cold-springs-fire')\n",
                "os.chdir(os.path.join(et.io.HOME, 'earth-analytics'))\n",
                "\n",
                "# Define path to NAIP data\n",
                "naip_path = os.path.join(\"data\",\n",
                "                         \"cold-springs-fire\",\n",
                "                         \"naip\",\n",
                "                         \"m_3910505_nw_13_1_20150919\",\n",
                "                         \"crop\",\n",
                "                         \"m_3910505_nw_13_1_20150919_crop.tif\")\n",
                "\n",
                "\n",
                "with rio.open(naip_path) as naip_src:\n",
                "    naip_extent = plotting_extent(naip_src)\n",
                "# Open NAIP data in read ('r') mode\n",
                "with rio.open(naip_path) as naip_src:\n",
                "    naip_data = naip_src.read()\n",
                "\n",
                "    # Project fire boundary to match NAIP data\n",
                "    fire_bound_utmz13 = da.to_crs(naip_src.crs)\n",
                "\n",
                "    # Create plotting extent from DatasetReader object\n",
                "    naip_plot_extent = plotting_extent(naip_src)\n",
                "\n",
                "f, ax = plt.subplots()\n",
                "\n",
                "ep.plot_rgb(naip_data,\n",
                "            rgb=[0, 1, 2],\n",
                "            ax=ax)\n",
                "\n",
                "plt.show()"
            ],
            "outputs": [],
            "metadata": {}
        }
    ],
    "metadata": {
        "orig_nbformat": 4,
        "language_info": {
            "name": "python",
            "version": "3.9.5",
            "mimetype": "text/x-python",
            "codemirror_mode": {
                "name": "ipython",
                "version": 3
            },
            "pygments_lexer": "ipython3",
            "nbconvert_exporter": "python",
            "file_extension": ".py"
        },
        "kernelspec": {
            "name": "python3",
            "display_name": "Python 3.9.5 64-bit"
        },
        "interpreter": {
            "hash": "916dbcbb3f70747c44a77c7bcd40155683ae19c65e1c03b4aa3499c5328201f1"
        }
    },
    "nbformat": 4,
    "nbformat_minor": 2
}